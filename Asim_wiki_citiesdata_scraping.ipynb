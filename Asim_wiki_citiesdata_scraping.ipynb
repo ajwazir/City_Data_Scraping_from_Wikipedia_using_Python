{
 "cells": [
  {
   "cell_type": "code",
   "execution_count": 1,
   "metadata": {
    "id": "KXmIUwdm0xv5"
   },
   "outputs": [],
   "source": [
    "# import libraries\n",
    "from bs4 import BeautifulSoup\n",
    "import requests\n",
    "import pandas as pd\n",
    "import re"
   ]
  },
  {
   "cell_type": "code",
   "execution_count": 2,
   "metadata": {
    "id": "QDj8Npfp-Oqa"
   },
   "outputs": [],
   "source": [
    "def convert_to_decimal(coordinate):\n",
    "    degrees, minutes = coordinate.split('°')[0], coordinate.split('°')[1].split('′')[0]\n",
    "    if '″' in coordinate:\n",
    "        seconds = coordinate.split('′')[1].split('″')[0]\n",
    "    else:\n",
    "        seconds = 0\n",
    "    decimal_value = int(degrees) + (int(minutes) / 60) + (int(seconds) / 3600)\n",
    "    return decimal_value"
   ]
  },
  {
   "cell_type": "code",
   "execution_count": 3,
   "metadata": {
    "id": "wDoP1M4z0p5e"
   },
   "outputs": [],
   "source": [
    "def webscrape_wiki(list_of_cities):\n",
    "  list_for_df = []\n",
    "\n",
    "  for city in list_of_cities:\n",
    "\n",
    "    url = \"https://en.wikipedia.org/wiki/\" + city\n",
    "\n",
    "    headers = {'Accept-Language': 'en-US,en;q=0.8'}\n",
    "    response = requests.get(url, headers = headers)\n",
    "\n",
    "    wiki_soup = BeautifulSoup(response.content, \"html.parser\")\n",
    "\n",
    "    response_dict = {}\n",
    "\n",
    "    response_dict[\"city\"] = wiki_soup.select(\"span.mw-page-title-main\")[0].getText()\n",
    "    response_dict[\"country\"] = wiki_soup.select(\"table.infobox td.infobox-data\")[0].getText()\n",
    "    response_dict[\"latitude\"] = wiki_soup.select(\"span.latitude\")[0].getText()\n",
    "    for key in ['latitude']:\n",
    "      # Convert degrees, minutes, and seconds to decimal format\n",
    "      response_dict[\"latitude\"] = convert_to_decimal(response_dict[key])\n",
    "    response_dict[\"longitude\"] = wiki_soup.select(\"span.longitude\")[0].getText()\n",
    "    for key in ['longitude']:\n",
    "      # Convert degrees, minutes, and seconds to decimal format\n",
    "      response_dict[\"longitude\"] = convert_to_decimal(response_dict[key])\n",
    "    if wiki_soup.select_one('th.infobox-header:-soup-contains(\"Population\")'):\n",
    "      response_dict[\"population\"] = wiki_soup.select_one('th.infobox-header:-soup-contains(\"Population\")').parent.find_next_sibling().find(text=re.compile(r'\\d+'))\n",
    "\n",
    "    list_for_df.append(response_dict)\n",
    "\n",
    "    cities_df = pd.DataFrame(list_for_df)\n",
    "\n",
    "\n",
    "  return  cities_df"
   ]
  },
  {
   "cell_type": "code",
   "execution_count": 4,
   "metadata": {
    "id": "1dFsLpHM_9zb"
   },
   "outputs": [],
   "source": [
    "list_of_cities = [\"Berlin\", \"Hamburg\", \"Leipzig\", \"Frankfurt\", \"Munich\", \"Stuttgart\", \"Hanover\"]"
   ]
  },
  {
   "cell_type": "code",
   "execution_count": 5,
   "metadata": {
    "colab": {
     "base_uri": "https://localhost:8080/",
     "height": 541
    },
    "id": "TK7DZr7yAGKZ",
    "outputId": "55499621-2d5e-45a2-f42d-bd751a176688"
   },
   "outputs": [],
   "source": [
    "Cities_data_df = webscrape_wiki(list_of_cities)"
   ]
  },
  {
   "cell_type": "code",
   "execution_count": 9,
   "metadata": {},
   "outputs": [
    {
     "data": {
      "text/html": [
       "<div>\n",
       "<style scoped>\n",
       "    .dataframe tbody tr th:only-of-type {\n",
       "        vertical-align: middle;\n",
       "    }\n",
       "\n",
       "    .dataframe tbody tr th {\n",
       "        vertical-align: top;\n",
       "    }\n",
       "\n",
       "    .dataframe thead th {\n",
       "        text-align: right;\n",
       "    }\n",
       "</style>\n",
       "<table border=\"1\" class=\"dataframe\">\n",
       "  <thead>\n",
       "    <tr style=\"text-align: right;\">\n",
       "      <th></th>\n",
       "      <th>city</th>\n",
       "      <th>country</th>\n",
       "      <th>latitude</th>\n",
       "      <th>longitude</th>\n",
       "      <th>population</th>\n",
       "    </tr>\n",
       "  </thead>\n",
       "  <tbody>\n",
       "    <tr>\n",
       "      <th>0</th>\n",
       "      <td>Berlin</td>\n",
       "      <td>Germany</td>\n",
       "      <td>52.520000</td>\n",
       "      <td>13.405000</td>\n",
       "      <td>3,850,809</td>\n",
       "    </tr>\n",
       "    <tr>\n",
       "      <th>1</th>\n",
       "      <td>Hamburg</td>\n",
       "      <td>Germany</td>\n",
       "      <td>53.550000</td>\n",
       "      <td>10.000000</td>\n",
       "      <td>1,906,411</td>\n",
       "    </tr>\n",
       "    <tr>\n",
       "      <th>2</th>\n",
       "      <td>Leipzig</td>\n",
       "      <td>Germany</td>\n",
       "      <td>51.340000</td>\n",
       "      <td>12.375000</td>\n",
       "      <td>601,866</td>\n",
       "    </tr>\n",
       "    <tr>\n",
       "      <th>3</th>\n",
       "      <td>Frankfurt</td>\n",
       "      <td>Germany</td>\n",
       "      <td>50.110556</td>\n",
       "      <td>8.682222</td>\n",
       "      <td>773,068</td>\n",
       "    </tr>\n",
       "    <tr>\n",
       "      <th>4</th>\n",
       "      <td>Munich</td>\n",
       "      <td>Germany</td>\n",
       "      <td>48.137500</td>\n",
       "      <td>11.575000</td>\n",
       "      <td>1,512,491</td>\n",
       "    </tr>\n",
       "    <tr>\n",
       "      <th>5</th>\n",
       "      <td>Stuttgart</td>\n",
       "      <td>Germany</td>\n",
       "      <td>48.777500</td>\n",
       "      <td>9.180000</td>\n",
       "      <td>626,275</td>\n",
       "    </tr>\n",
       "    <tr>\n",
       "      <th>6</th>\n",
       "      <td>Hanover</td>\n",
       "      <td>Germany</td>\n",
       "      <td>52.366667</td>\n",
       "      <td>9.716667</td>\n",
       "      <td>535,932</td>\n",
       "    </tr>\n",
       "  </tbody>\n",
       "</table>\n",
       "</div>"
      ],
      "text/plain": [
       "        city  country   latitude  longitude population\n",
       "0     Berlin  Germany  52.520000  13.405000  3,850,809\n",
       "1    Hamburg  Germany  53.550000  10.000000  1,906,411\n",
       "2    Leipzig  Germany  51.340000  12.375000    601,866\n",
       "3  Frankfurt  Germany  50.110556   8.682222    773,068\n",
       "4     Munich  Germany  48.137500  11.575000  1,512,491\n",
       "5  Stuttgart  Germany  48.777500   9.180000    626,275\n",
       "6    Hanover  Germany  52.366667   9.716667    535,932"
      ]
     },
     "execution_count": 9,
     "metadata": {},
     "output_type": "execute_result"
    }
   ],
   "source": [
    "Cities_data_df "
   ]
  },
  {
   "cell_type": "markdown",
   "metadata": {},
   "source": [
    "# SQLAlchemy"
   ]
  },
  {
   "cell_type": "code",
   "execution_count": 11,
   "metadata": {},
   "outputs": [],
   "source": [
    "import sqlalchemy # install if needed"
   ]
  },
  {
   "cell_type": "markdown",
   "metadata": {},
   "source": [
    "Specify MySQL connection. You need to previously create the schema (also called database in MySQL) `iss_workshop` on your local instance of MySQL. \n",
    "\n",
    "You can do that with MySQLWorkbench by connecting to your local instance and typing `CREATE DATABASE iss_workshop;` in a new query tab."
   ]
  },
  {
   "cell_type": "code",
   "execution_count": 10,
   "metadata": {},
   "outputs": [],
   "source": [
    "schema=\"sql_combined_scraped_cities_data_asim\" # renamed from \"iss_workshop\"\n",
    "host=\"127.0.0.1\"\n",
    "user=\"root\"\n",
    "password=\"Aryan-2021\"\n",
    "port=3306\n",
    "con = f'mysql+pymysql://{user}:{password}@{host}:{port}/{schema}'"
   ]
  },
  {
   "cell_type": "markdown",
   "metadata": {},
   "source": [
    "Use pandas method `to_sql` with the argument `if_exists=append` to create the table (only the first time we run it) and insert the new rows into it."
   ]
  },
  {
   "cell_type": "code",
   "execution_count": 14,
   "metadata": {
    "tags": []
   },
   "outputs": [
    {
     "data": {
      "text/plain": [
       "7"
      ]
     },
     "execution_count": 14,
     "metadata": {},
     "output_type": "execute_result"
    }
   ],
   "source": [
    "Cities_data_df .to_sql('cities_wiki_data', # renamed from \"iss_position\"\n",
    "              if_exists='append', \n",
    "              con=con, \n",
    "              index=False)"
   ]
  },
  {
   "cell_type": "code",
   "execution_count": null,
   "metadata": {},
   "outputs": [],
   "source": [
    "#selected_columns = ['column1', 'column2', 'column3']\n",
    "#df[selected_columns].to_sql('table_name', engine, index=False, if_exists='replace')"
   ]
  },
  {
   "cell_type": "markdown",
   "metadata": {},
   "source": [
    "Check on MySQLWorkbench that a new table `iss_position` exists within the `iss_workshop` database, and that a new row has been inserted on it. If you run the whole notebook again, another row should appear there."
   ]
  }
 ],
 "metadata": {
  "colab": {
   "provenance": []
  },
  "kernelspec": {
   "display_name": "Python 3 (ipykernel)",
   "language": "python",
   "name": "python3"
  },
  "language_info": {
   "codemirror_mode": {
    "name": "ipython",
    "version": 3
   },
   "file_extension": ".py",
   "mimetype": "text/x-python",
   "name": "python",
   "nbconvert_exporter": "python",
   "pygments_lexer": "ipython3",
   "version": "3.10.9"
  }
 },
 "nbformat": 4,
 "nbformat_minor": 4
}
